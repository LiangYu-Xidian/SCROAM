{
 "cells": [
  {
   "cell_type": "code",
   "execution_count": 1,
   "id": "3d3f8fd2",
   "metadata": {},
   "outputs": [],
   "source": [
    "import numpy as np\n",
    "from numpy import matrix\n",
    "import sklearn.metrics\n",
    "from cvxopt import matrix, solvers\n",
    "import matplotlib.pyplot as plt\n",
    "import pandas as pd\n",
    "from scipy.stats import spearmanr \n",
    "import scanpy as sc\n",
    "import seaborn as sns"
   ]
  },
  {
   "cell_type": "code",
   "execution_count": 2,
   "id": "be77b013",
   "metadata": {},
   "outputs": [],
   "source": [
    "\n",
    "#%% Kernel\n",
    "def kernel(ker, X1, X2, gamma):\n",
    "    K = None\n",
    "    if ker == 'linear':\n",
    "        if X2 is not None:\n",
    "            K = sklearn.metrics.pairwise.linear_kernel(np.asarray(X1), np.asarray(X2))\n",
    "        else:\n",
    "            K = sklearn.metrics.pairwise.linear_kernel(np.asarray(X1))\n",
    "    elif ker == 'rbf':\n",
    "        if X2 is not None:\n",
    "            K = sklearn.metrics.pairwise.rbf_kernel(np.asarray(X1), np.asarray(X2), gamma)\n",
    "        else:\n",
    "            K = sklearn.metrics.pairwise.rbf_kernel(np.asarray(X1), None, gamma)\n",
    "    return K\n",
    "\n",
    "\n",
    "#%% Kernel Mean Matching (KMM)\n",
    "class KMM:\n",
    "    def __init__(self, kernel_type='linear', gamma=1.0, B=1.0, eps=None):\n",
    "        '''\n",
    "        Initialization function\n",
    "        :param kernel_type: 'linear' | 'rbf'\n",
    "        :param gamma: kernel bandwidth for rbf kernel\n",
    "        :param B: bound for beta\n",
    "        :param eps: bound for sigma_beta\n",
    "        '''\n",
    "        self.kernel_type = kernel_type\n",
    "        self.gamma = gamma\n",
    "        self.B = B\n",
    "        self.eps = eps\n",
    "\n",
    "    def fit(self, Xs, Xt):\n",
    "        '''\n",
    "        Fit source and target using KMM (compute the coefficients)\n",
    "        :param Xs: ns * dim\n",
    "        :param Xt: nt * dim\n",
    "        :return: Coefficients (Pt / Ps) value vector (Beta in the paper)\n",
    "        '''\n",
    "        ns = Xs.shape[0]\n",
    "        nt = Xt.shape[0]\n",
    "        if self.eps == None:\n",
    "            self.eps = self.B / np.sqrt(ns)\n",
    "        K = kernel(self.kernel_type, Xs, None, self.gamma)\n",
    "        kappa = np.sum(kernel(self.kernel_type, Xs, Xt, self.gamma) * float(ns) / float(nt), axis=1)\n",
    "\n",
    "        K = matrix(K)\n",
    "        kappa = matrix(kappa)\n",
    "        G = matrix(np.r_[np.ones((1, ns)), -np.ones((1, ns)), np.eye(ns), -np.eye(ns)])\n",
    "        h = matrix(np.r_[ns * (1 + self.eps), ns * (self.eps - 1), self.B * np.ones((ns,)), np.zeros((ns,))])\n",
    "\n",
    "        sol = solvers.qp(K, -kappa, G, h)\n",
    "        beta = np.array(sol['x'])\n",
    "        return beta"
   ]
  },
  {
   "cell_type": "code",
   "execution_count": 3,
   "id": "3b80a7c0",
   "metadata": {},
   "outputs": [],
   "source": [
    "cell=sc.read_h5ad('cell_seurat.h5ad')\n",
    "bulk=sc.read_h5ad('bulk_seurat.h5ad')"
   ]
  },
  {
   "cell_type": "code",
   "execution_count": 4,
   "id": "58265dde",
   "metadata": {},
   "outputs": [
    {
     "data": {
      "text/plain": [
       "AnnData object with n_obs × n_vars = 6400 × 19840\n",
       "    obs: 'orig.ident', 'nCount_RNA', 'nFeature_RNA', 'celltype'\n",
       "    var: 'features'"
      ]
     },
     "execution_count": 4,
     "metadata": {},
     "output_type": "execute_result"
    }
   ],
   "source": [
    "cell"
   ]
  },
  {
   "cell_type": "code",
   "execution_count": 5,
   "id": "b0a51e02",
   "metadata": {},
   "outputs": [
    {
     "data": {
      "text/plain": [
       "AnnData object with n_obs × n_vars = 6 × 19840\n",
       "    obs: 'orig.ident', 'nCount_RNA', 'nFeature_RNA'\n",
       "    var: 'features'"
      ]
     },
     "execution_count": 5,
     "metadata": {},
     "output_type": "execute_result"
    }
   ],
   "source": [
    "bulk"
   ]
  },
  {
   "cell_type": "code",
   "execution_count": 6,
   "id": "12b9a0eb",
   "metadata": {},
   "outputs": [],
   "source": [
    "cell_X=pd.DataFrame(cell.X.todense())\n",
    "bulk_X=pd.DataFrame(bulk.X.todense())"
   ]
  },
  {
   "cell_type": "code",
   "execution_count": 7,
   "id": "56eee57c",
   "metadata": {},
   "outputs": [
    {
     "name": "stdout",
     "output_type": "stream",
     "text": [
      "     pcost       dcost       gap    pres   dres\n",
      " 0:  7.6047e+00 -2.8789e+01  4e+01  5e-17  4e-15\n",
      " 1:  6.5250e+00  4.6901e+00  2e+00  7e-17  2e-15\n",
      " 2:  6.3049e+00  6.2849e+00  2e-02  1e-16  1e-15\n",
      " 3:  6.3025e+00  6.3016e+00  9e-04  8e-17  5e-14\n",
      " 4:  6.3022e+00  6.3020e+00  2e-04  2e-16  1e-11\n",
      " 5:  6.3021e+00  6.3021e+00  3e-05  1e-16  7e-11\n",
      " 6:  6.3021e+00  6.3021e+00  1e-06  6e-17  4e-11\n",
      "Optimal solution found.\n"
     ]
    }
   ],
   "source": [
    "kmm = KMM(kernel_type='rbf', B=1)\n",
    "beta = kmm.fit(bulk_X, cell_X)"
   ]
  },
  {
   "cell_type": "code",
   "execution_count": 8,
   "id": "bd3c0965",
   "metadata": {},
   "outputs": [
    {
     "data": {
      "text/plain": [
       "array([[0.75666106],\n",
       "       [0.79553252],\n",
       "       [0.99658132],\n",
       "       [0.00125949],\n",
       "       [0.99925444],\n",
       "       [0.00122146]])"
      ]
     },
     "execution_count": 8,
     "metadata": {},
     "output_type": "execute_result"
    }
   ],
   "source": [
    "beta"
   ]
  },
  {
   "cell_type": "code",
   "execution_count": 9,
   "id": "397da007",
   "metadata": {},
   "outputs": [],
   "source": [
    "beta=pd.DataFrame(beta)\n",
    "beta.to_csv('beta.csv',index= False, header=0)"
   ]
  },
  {
   "cell_type": "code",
   "execution_count": null,
   "id": "91642098",
   "metadata": {},
   "outputs": [],
   "source": []
  }
 ],
 "metadata": {
  "kernelspec": {
   "display_name": "Python 3",
   "language": "python",
   "name": "python3"
  },
  "language_info": {
   "codemirror_mode": {
    "name": "ipython",
    "version": 3
   },
   "file_extension": ".py",
   "mimetype": "text/x-python",
   "name": "python",
   "nbconvert_exporter": "python",
   "pygments_lexer": "ipython3",
   "version": "3.6.15"
  }
 },
 "nbformat": 4,
 "nbformat_minor": 5
}
